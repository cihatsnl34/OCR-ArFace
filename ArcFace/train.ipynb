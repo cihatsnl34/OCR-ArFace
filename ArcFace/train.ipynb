{
 "cells": [
  {
   "cell_type": "markdown",
   "metadata": {},
   "source": [
    "# 1. Baseline"
   ]
  },
  {
   "cell_type": "markdown",
   "metadata": {},
   "source": [
    "## Libraries"
   ]
  },
  {
   "cell_type": "code",
   "execution_count": 7,
   "metadata": {},
   "outputs": [],
   "source": [
    "import os \n",
    "from pathlib import Path\n",
    "from tqdm import tqdm\n",
    "from easydict import EasyDict as edict\n",
    "\n",
    "import torch\n",
    "import torch.nn as nn\n",
    "import torch.optim as optim\n",
    "import torchvision.utils as vutils\n",
    "from torchvision import transforms as trans\n",
    "\n",
    "from data.ms1m import get_train_loader\n",
    "from data.lfw import LFW\n",
    "\n",
    "from backbone.arcfacenet import SEResNet_IR\n",
    "from margin.ArcMarginProduct import ArcMarginProduct\n",
    "\n",
    "from util.utils import save_checkpoint, test"
   ]
  },
  {
   "cell_type": "markdown",
   "metadata": {},
   "source": [
    "## Configuration"
   ]
  },
  {
   "cell_type": "code",
   "execution_count": 8,
   "metadata": {},
   "outputs": [],
   "source": [
    "conf = edict()\n",
    "\n",
    "conf.train_root = \"./dataset/MS1M\"\n",
    "conf.lfw_test_root = \"./dataset/lfw_aligned_112\"\n",
    "conf.lfw_file_list = \"./dataset/lfw_pair.txt\"\n",
    "\n",
    "conf.mode = \"se_ir\" # \"ir = Resnet Tabanlı\"\n",
    "conf.depth = 50  #50,100,152 #Derinliği artırırsak uzun sürer eğitiim, 100 kullanırsak ir kullanmak daha iyi\n",
    "conf.margin_type = \"ArcFace\"\n",
    "conf.feature_dim = 512 #Genelde 512 kullanılır daha iyi sonuç alınıyor 200 de olabilir \n",
    "conf.scale_siz = 32.0\n",
    "conf.batch_size = 96 #Modele kaçar kaçar vereceğimizi söylüyoruz\n",
    "conf.lr = 0.01 #Batch size ile lr doğru orantı var, batch size düşürüyorsak lr de düşürmemiz gerekiyor\n",
    "conf.milestones = [8,10,12]#Eğitim kaybımızı hangi epochlarda kontrol edeceğiz, öğrenme oranını 8,10,12 de düşürüypruz\n",
    "conf.total_epoch = 14\n",
    "\n",
    "conf.save_folder = \"./saved\"\n",
    "conf.save_dir = os.path.join(conf.save_folder,conf.mode + \"_\" + str(conf.depth) )#./saved/se_ir_50\n",
    "conf.device = torch.device('cuda:0' if torch.cuda.is_available() else 'cpu') #GPU cuda =0\n",
    "conf.num_workers = 4\n",
    "conf.pin_memory = True"
   ]
  },
  {
   "cell_type": "code",
   "execution_count": 9,
   "metadata": {},
   "outputs": [],
   "source": [
    "os.makedirs(conf.save_dir, exist_ok = True)"
   ]
  },
  {
   "cell_type": "markdown",
   "metadata": {},
   "source": [
    "## Data Loader"
   ]
  },
  {
   "cell_type": "code",
   "execution_count": 11,
   "metadata": {},
   "outputs": [],
   "source": [
    "transform = trans.Compose([\n",
    "    trans.ToTensor(), #RANGE [0,255] -> [0.0, 1.0]\n",
    "    trans.Normalize(mean=(0.5,0.5,0.5), std = (0.5,0.5,0.5))\n",
    "])\n",
    "trainloader, class_num = get_train_loader(conf)"
   ]
  },
  {
   "cell_type": "code",
   "execution_count": 12,
   "metadata": {},
   "outputs": [
    {
     "name": "stdout",
     "output_type": "stream",
     "text": [
      "number of id  200\n"
     ]
    }
   ],
   "source": [
    "print(\"number of id \",class_num)"
   ]
  },
  {
   "cell_type": "code",
   "execution_count": 13,
   "metadata": {},
   "outputs": [
    {
     "name": "stdout",
     "output_type": "stream",
     "text": [
      "Dataset ImageFolder\n",
      "    Number of datapoints: 29148\n",
      "    Root Location: ./dataset/MS1M\n",
      "    Transforms (if any): Compose(\n",
      "                             RandomHorizontalFlip(p=0.5)\n",
      "                             ToTensor()\n",
      "                             Normalize(mean=[0.5, 0.5, 0.5], std=[0.5, 0.5, 0.5])\n",
      "                         )\n",
      "    Target Transforms (if any): None\n"
     ]
    }
   ],
   "source": [
    "print(trainloader.dataset)"
   ]
  },
  {
   "cell_type": "code",
   "execution_count": 18,
   "metadata": {},
   "outputs": [],
   "source": [
    "lfwdataset = LFW(conf.lfw_test_root,conf.lfw_file_list,transform = transform)\n",
    "lfwloader = torch.utils.data.DataLoader(lfwdataset,batch_size = 128,num_workers = conf.num_workers)"
   ]
  },
  {
   "cell_type": "code",
   "execution_count": 19,
   "metadata": {},
   "outputs": [
    {
     "name": "stdout",
     "output_type": "stream",
     "text": [
      "cpu\n"
     ]
    }
   ],
   "source": [
    "print(conf.device)"
   ]
  },
  {
   "cell_type": "markdown",
   "metadata": {},
   "source": [
    "# Model"
   ]
  },
  {
   "cell_type": "code",
   "execution_count": null,
   "metadata": {},
   "outputs": [],
   "source": [
    "net = SEResNet_IR(conf.depth,feature_dim = conf.feature_dim,mode = conf.mode)to(conf.device)"
   ]
  },
  {
   "cell_type": "code",
   "execution_count": null,
   "metadata": {},
   "outputs": [],
   "source": []
  },
  {
   "cell_type": "code",
   "execution_count": null,
   "metadata": {
    "scrolled": true
   },
   "outputs": [],
   "source": []
  },
  {
   "cell_type": "code",
   "execution_count": null,
   "metadata": {},
   "outputs": [],
   "source": []
  },
  {
   "cell_type": "markdown",
   "metadata": {},
   "source": [
    "## Train"
   ]
  },
  {
   "cell_type": "code",
   "execution_count": null,
   "metadata": {},
   "outputs": [],
   "source": []
  }
 ],
 "metadata": {
  "hide_input": false,
  "kernelspec": {
   "display_name": "Python 3 (ipykernel)",
   "language": "python",
   "name": "python3"
  },
  "language_info": {
   "codemirror_mode": {
    "name": "ipython",
    "version": 3
   },
   "file_extension": ".py",
   "mimetype": "text/x-python",
   "name": "python",
   "nbconvert_exporter": "python",
   "pygments_lexer": "ipython3",
   "version": "3.7.11"
  }
 },
 "nbformat": 4,
 "nbformat_minor": 4
}
